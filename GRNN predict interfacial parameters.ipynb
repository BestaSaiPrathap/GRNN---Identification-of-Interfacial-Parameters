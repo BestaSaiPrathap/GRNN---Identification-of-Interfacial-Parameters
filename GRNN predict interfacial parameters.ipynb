{
 "cells": [
  {
   "cell_type": "markdown",
   "id": "a5f8dd54",
   "metadata": {},
   "source": [
    "## Application of general regression neural network in identifying interfacial parameters under mixed-mode fracture"
   ]
  },
  {
   "cell_type": "code",
   "execution_count": 1,
   "id": "17a83b11",
   "metadata": {},
   "outputs": [
    {
     "data": {
      "text/plain": [
       "'C:\\\\Users\\\\Dell'"
      ]
     },
     "execution_count": 1,
     "metadata": {},
     "output_type": "execute_result"
    }
   ],
   "source": [
    "import os\n",
    "os.getcwd()"
   ]
  },
  {
   "cell_type": "code",
   "execution_count": 2,
   "id": "d53c4c37",
   "metadata": {},
   "outputs": [],
   "source": [
    "os.chdir(\"D:\\\\1.sem7\\BTP S\\\\btp after msem\\\\codes\")"
   ]
  },
  {
   "cell_type": "code",
   "execution_count": 3,
   "id": "5a778376",
   "metadata": {},
   "outputs": [
    {
     "data": {
      "text/plain": [
       "'D:\\\\1.sem7\\\\BTP S\\\\btp after msem\\\\codes'"
      ]
     },
     "execution_count": 3,
     "metadata": {},
     "output_type": "execute_result"
    }
   ],
   "source": [
    "os.getcwd()"
   ]
  },
  {
   "cell_type": "code",
   "execution_count": 4,
   "id": "bf7e1c7e",
   "metadata": {},
   "outputs": [],
   "source": [
    "import pandas as pd\n",
    "import numpy as np\n",
    "import glob\n",
    "import matplotlib.pyplot as plt\n",
    "from sklearn.metrics import mean_squared_error\n"
   ]
  },
  {
   "cell_type": "code",
   "execution_count": 5,
   "id": "9d570c1a",
   "metadata": {},
   "outputs": [],
   "source": [
    "# Define the GRNN class\n",
    "class GRNN:\n",
    "    def __init__(self, sigma):\n",
    "        self.sigma = sigma  # Smoothing factor\n",
    "        self.X_train = None\n",
    "        self.Y_train = None\n",
    "\n",
    "    def fit(self, X, Y):\n",
    "        self.X_train = X\n",
    "        self.Y_train = Y\n",
    "\n",
    "    def predict(self, X):\n",
    "        # Compute the Euclidean distances\n",
    "        distances = np.linalg.norm(X[:, np.newaxis] - self.X_train, axis=2)\n",
    "\n",
    "        # Compute the kernel\n",
    "        kernel = np.exp(-distances ** 2 / (2 * self.sigma ** 2))\n",
    "\n",
    "        # Predict the output for each parameter\n",
    "        predicted = np.zeros((X.shape[0], self.Y_train.shape[1]))\n",
    "\n",
    "        for i in range(self.Y_train.shape[1]):\n",
    "            predicted[:, i] = np.dot(kernel, self.Y_train[:, i]) / np.sum(kernel, axis=1)\n",
    "\n",
    "        return predicted\n"
   ]
  },
  {
   "cell_type": "code",
   "execution_count": 6,
   "id": "2947efb6",
   "metadata": {},
   "outputs": [
    {
     "name": "stdout",
     "output_type": "stream",
     "text": [
      "[[1.60e+02 2.40e-02 8.00e-02 8.00e+01 1.20e+08 1.20e+08 1.00e+08]\n",
      " [1.80e+02 2.70e-02 9.00e-02 9.00e+01 1.35e+08 1.35e+08 1.00e+08]\n",
      " [2.20e+02 3.30e-02 1.10e-01 1.10e+02 1.65e+08 1.65e+08 1.00e+08]\n",
      " [2.40e+02 3.60e-02 1.20e-01 1.20e+02 1.80e+08 1.80e+08 1.00e+08]\n",
      " [1.60e+02 2.70e-02 8.00e-02 8.00e+01 1.20e+08 1.20e+08 1.00e+08]\n",
      " [2.40e+02 2.70e-02 8.00e-02 8.00e+01 1.20e+08 1.20e+08 1.00e+08]\n",
      " [2.20e+02 3.30e-02 1.10e-01 8.00e+01 1.80e+08 1.20e+08 1.00e+08]\n",
      " [1.80e+02 3.30e-02 8.00e-02 1.20e+02 1.35e+08 1.50e+08 1.00e+08]\n",
      " [2.00e+02 2.40e-02 1.10e-01 1.10e+02 1.20e+08 1.20e+08 1.00e+08]\n",
      " [2.20e+02 2.40e-02 1.00e-01 8.00e+01 1.50e+08 1.20e+08 1.00e+08]]\n"
     ]
    }
   ],
   "source": [
    "# Load the interfacial parameters\n",
    "params_file_path = 'D:\\\\1.sem7\\\\BTP S\\\\btp after msem\\\\data set rps\\\\Interfacial parameters 10samp data.xlsx'\n",
    "interfacial_params = pd.read_excel(params_file_path, header=0).iloc[:, 1:].values\n",
    "\n",
    "# Ensure interfacial parameters are numeric\n",
    "interfacial_params = interfacial_params.astype(float)\n",
    "print(interfacial_params)\n"
   ]
  },
  {
   "cell_type": "code",
   "execution_count": 7,
   "id": "205792c6",
   "metadata": {},
   "outputs": [
    {
     "name": "stdout",
     "output_type": "stream",
     "text": [
      "First few rows of X_all (input features):\n",
      "[[0.00000000e+00 0.00000000e+00]\n",
      " [1.00000000e-04 0.00000000e+00]\n",
      " [2.00000000e-04 0.00000000e+00]\n",
      " [3.00000000e-04 0.00000000e+00]\n",
      " [4.00000000e-04 1.06456001e-01]]\n",
      "\n",
      "First few rows of Y_all (repeated interfacial parameters):\n",
      "[[1.6e+02 2.4e-02 8.0e-02 8.0e+01 1.2e+08 1.2e+08 1.0e+08]\n",
      " [1.6e+02 2.4e-02 8.0e-02 8.0e+01 1.2e+08 1.2e+08 1.0e+08]\n",
      " [1.6e+02 2.4e-02 8.0e-02 8.0e+01 1.2e+08 1.2e+08 1.0e+08]\n",
      " [1.6e+02 2.4e-02 8.0e-02 8.0e+01 1.2e+08 1.2e+08 1.0e+08]\n",
      " [1.6e+02 2.4e-02 8.0e-02 8.0e+01 1.2e+08 1.2e+08 1.0e+08]]\n"
     ]
    }
   ],
   "source": [
    "# Load sample data from the folder\n",
    "samples_folder_path = 'D:\\\\1.sem7\\\\BTP S\\\\btp after msem\\\\data set rps\\\\train,test .samples\\\\*.csv'\n",
    "\n",
    "X_all = []\n",
    "Y_all = []\n",
    "\n",
    "for file_path in glob.glob(samples_folder_path):\n",
    "    data = pd.read_csv(file_path, encoding='utf-8', on_bad_lines='skip')\n",
    "    # Combine force and displacement as input features\n",
    "    X = data[['Displacement', 'Force']].values  # Use both columns as input features\n",
    "    sample_index = int(file_path.split('\\\\')[-1].split('.')[0].replace('sample', ''))\n",
    "    Y = interfacial_params[sample_index - 1]\n",
    "    Y_repeated = np.tile(Y, (X.shape[0], 1))  # Repeat Y for each displacement-force pair\n",
    "    X_all.append(X)\n",
    "    Y_all.append(Y_repeated)\n",
    "\n",
    "X_all = np.vstack(X_all)\n",
    "Y_all = np.vstack(Y_all)\n",
    "\n",
    "# Print the first few rows of X_all and Y_all\n",
    "print(\"First few rows of X_all (input features):\")\n",
    "print(X_all[:5])  # Print the first 5 rows of X_all\n",
    "\n",
    "print(\"\\nFirst few rows of Y_all (repeated interfacial parameters):\")\n",
    "print(Y_all[:5])  # Print the first 5 rows of Y_all\n"
   ]
  },
  {
   "cell_type": "code",
   "execution_count": 8,
   "id": "7a35dc0a",
   "metadata": {},
   "outputs": [
    {
     "name": "stdout",
     "output_type": "stream",
     "text": [
      "Files saved as X_all.csv and Y_all.csv.\n"
     ]
    }
   ],
   "source": [
    "# Save X_all to a CSV file\n",
    "X_df = pd.DataFrame(X_all, columns=['Displacement', 'Force'])\n",
    "X_df.to_csv('X_all.csv', index=False)\n",
    "\n",
    "# Save Y_all to a CSV file\n",
    "Y_df = pd.DataFrame(Y_all)  # Assuming Y_all has multiple interfacial parameters\n",
    "Y_df.to_csv('Y_all.csv', index=False)\n",
    "\n",
    "print(\"Files saved as X_all.csv and Y_all.csv.\")"
   ]
  },
  {
   "cell_type": "code",
   "execution_count": 9,
   "id": "6c111edc",
   "metadata": {},
   "outputs": [
    {
     "name": "stdout",
     "output_type": "stream",
     "text": [
      "Size of X_all (input features): (6000, 2)\n",
      "Size of Y_all (interfacial parameters): (6000, 7)\n"
     ]
    }
   ],
   "source": [
    "print(\"Size of X_all (input features):\", X_all.shape)\n",
    "print(\"Size of Y_all (interfacial parameters):\", Y_all.shape)"
   ]
  },
  {
   "cell_type": "code",
   "execution_count": 10,
   "id": "8d404c91",
   "metadata": {},
   "outputs": [
    {
     "name": "stdout",
     "output_type": "stream",
     "text": [
      "Optimal Smoothing Factor (Sigma): 5.0\n"
     ]
    },
    {
     "data": {
      "image/png": "[encoded data removed]",
      "text/plain": [
       "<Figure size 1000x600 with 1 Axes>"
      ]
     },
     "metadata": {},
     "output_type": "display_data"
    }
   ],
   "source": [
    "# Function to evaluate different sigma values using LOOCV\n",
    "def evaluate_sigma(X, Y, sigma_values):\n",
    "    mse_values = []\n",
    "    n_samples = Y.shape[0] // 601  # Assuming each sample has 601 points\n",
    "\n",
    "    for sigma in sigma_values:\n",
    "        model = GRNN(sigma)\n",
    "        total_mse = 0\n",
    "        \n",
    "        for i in range(n_samples):\n",
    "            # Leave-one-out cross-validation\n",
    "            X_train = np.delete(X, np.s_[i * 601:(i + 1) * 601], axis=0)\n",
    "            Y_train = np.delete(Y, np.s_[i * 601:(i + 1) * 601], axis=0)\n",
    "            X_val = X[i * 601:(i + 1) * 601]\n",
    "            Y_val = Y[i * 601:(i + 1) * 601]\n",
    "\n",
    "            model.fit(X_train, Y_train)\n",
    "            predicted = model.predict(X_val)\n",
    "            total_mse += mean_squared_error(Y_val, predicted)\n",
    "        \n",
    "        # Compute average MSE for this sigma value\n",
    "        avg_mse = total_mse / n_samples\n",
    "        mse_values.append(avg_mse)\n",
    "\n",
    "    return mse_values\n",
    "\n",
    "# Range of sigma values to evaluate\n",
    "sigma_values = np.linspace(5, 30, 100)  # Adjust the range around the expected optimum\n",
    "mse_values = evaluate_sigma(X_all, Y_all, sigma_values)\n",
    "\n",
    "# Find the optimal sigma\n",
    "optimal_sigma_index = np.argmin(mse_values)\n",
    "optimal_sigma = sigma_values[optimal_sigma_index]\n",
    "print(f\"Optimal Smoothing Factor (Sigma): {optimal_sigma}\")\n",
    "\n",
    "# Plot MSE vs Sigma\n",
    "plt.figure(figsize=(10, 6))\n",
    "plt.plot(sigma_values, mse_values, marker='o')\n",
    "plt.title('MSE vs Smoothing Factor Sigma')\n",
    "plt.xlabel('Smoothing Factor Sigma')\n",
    "plt.ylabel('Mean Squared Error (MSE)')\n",
    "plt.axvline(optimal_sigma, color='r', linestyle='--', label=f'Optimal Sigma = {optimal_sigma:.2f}')\n",
    "plt.legend()\n",
    "plt.grid()\n",
    "plt.show()"
   ]
  },
  {
   "cell_type": "code",
   "execution_count": 11,
   "id": "dbd56b4b",
   "metadata": {},
   "outputs": [
    {
     "name": "stdout",
     "output_type": "stream",
     "text": [
      "Predicted interfacial parameters for the new sample saved to: predicted_new_interfacial_parameters.csv\n"
     ]
    }
   ],
   "source": [
    "# Load the new sample data (force vs. displacement data)\n",
    "import pandas as pd\n",
    "new_sample_file_path = 'D:\\\\1.sem7\\BTP S\\\\btp after msem\\\\data set rps\\\\example\\\\fvs disp exampple data.csv'\n",
    "new_sample_data = pd.read_csv(new_sample_file_path, encoding='utf-8')\n",
    "\n",
    "# Extract displacement and force values from the new sample\n",
    "new_input_values = new_sample_data[['Displacement', 'Force']].values\n",
    "\n",
    "# Predict the interfacial parameters using the trained GRNN model\n",
    "grnn_model = GRNN(sigma=optimal_sigma)\n",
    "grnn_model.fit(X_all, Y_all)\n",
    "predicted_params = grnn_model.predict(new_input_values)\n",
    "\n",
    "# Save predictions to a CSV file\n",
    "predictions_df = pd.DataFrame(predicted_params, columns=[f'Param_{i + 1}' for i in range(predicted_params.shape[1])])\n",
    "predictions_df.to_csv('predicted_new_interfacial_parameters.csv', index=False)\n",
    "\n",
    "print(\"Predicted interfacial parameters for the new sample saved to: predicted_new_interfacial_parameters.csv\")\n"
   ]
  },
  {
   "cell_type": "code",
   "execution_count": 12,
   "id": "2a3dd333",
   "metadata": {},
   "outputs": [
    {
     "name": "stdout",
     "output_type": "stream",
     "text": [
      "        Param_1   Param_2   Param_3    Param_4       Param_5       Param_6  \\\n",
      "0    202.000000  0.028800  0.096000  95.000000  1.425000e+08  1.350000e+08   \n",
      "1    202.000000  0.028800  0.096000  95.000000  1.425000e+08  1.350000e+08   \n",
      "2    202.000000  0.028800  0.096000  95.000000  1.425000e+08  1.350000e+08   \n",
      "3    202.000000  0.028800  0.096000  95.000000  1.425000e+08  1.350000e+08   \n",
      "4    202.000000  0.028800  0.096000  95.000000  1.425000e+08  1.350000e+08   \n",
      "..          ...       ...       ...        ...           ...           ...   \n",
      "595  200.898274  0.028327  0.095593  93.863703  1.408613e+08  1.320381e+08   \n",
      "596  200.884310  0.028319  0.095569  93.802655  1.408432e+08  1.319844e+08   \n",
      "597  200.870427  0.028312  0.095545  93.741867  1.408252e+08  1.319310e+08   \n",
      "598  200.856624  0.028304  0.095521  93.681340  1.408073e+08  1.318780e+08   \n",
      "599  200.842725  0.028297  0.095497  93.620304  1.407894e+08  1.318246e+08   \n",
      "\n",
      "         Param_7  \n",
      "0    100000000.0  \n",
      "1    100000000.0  \n",
      "2    100000000.0  \n",
      "3    100000000.0  \n",
      "4    100000000.0  \n",
      "..           ...  \n",
      "595  100000000.0  \n",
      "596  100000000.0  \n",
      "597  100000000.0  \n",
      "598  100000000.0  \n",
      "599  100000000.0  \n",
      "\n",
      "[600 rows x 7 columns]\n"
     ]
    }
   ],
   "source": [
    "print(predictions_df[:1])  # Print the first 5 rows of X_all\n"
   ]
  },
  {
   "cell_type": "code",
   "execution_count": 13,
   "id": "03f3c60d",
   "metadata": {},
   "outputs": [
    {
     "name": "stdout",
     "output_type": "stream",
     "text": [
      "Average Predicted Interfacial Parameters:  [2.01876162e+02 2.89096490e-02 9.66474625e-02 9.70086599e+01\n",
      " 1.42393095e+08 1.35948379e+08]\n",
      "Deviations (%) for each parameter:  [0.93808108 3.63450323 3.35253751 2.9913401  5.07127028 9.36774764]\n",
      "Mean Deviation (%): 4.23%\n"
     ]
    }
   ],
   "source": [
    "# Experimental values provided\n",
    "experimental_values = np.array([200, 0.030, 0.10, 100.00, 1.50e8, 1.50e8])\n",
    "\n",
    "# Take the average of the predicted interfacial parameters across all predicted samples\n",
    "average_predicted_params = np.mean(predicted_params, axis=0)\n",
    "\n",
    "# Select only the first 6 parameters as per the experimental values (if predicted values contain more than 6)\n",
    "average_predicted_params = average_predicted_params[:6]\n",
    "\n",
    "# Calculate the percentage deviations for each parameter\n",
    "deviations = np.abs((average_predicted_params - experimental_values) / experimental_values) * 100\n",
    "\n",
    "# Calculate the overall mean deviation across all parameters\n",
    "mean_deviation = np.mean(deviations)\n",
    "\n",
    "# Print the average predicted parameters and the deviations\n",
    "print(\"Average Predicted Interfacial Parameters: \", average_predicted_params)\n",
    "print(\"Deviations (%) for each parameter: \", deviations)\n",
    "print(f\"Mean Deviation (%): {mean_deviation:.2f}%\")\n"
   ]
  },
  {
   "cell_type": "code",
   "execution_count": null,
   "id": "71b74e8b",
   "metadata": {},
   "outputs": [],
   "source": []
  }
 ],
 "metadata": {
  "kernelspec": {
   "display_name": "Python 3 (ipykernel)",
   "language": "python",
   "name": "python3"
  },
  "language_info": {
   "codemirror_mode": {
    "name": "ipython",
    "version": 3
   },
   "file_extension": ".py",
   "mimetype": "text/x-python",
   "name": "python",
   "nbconvert_exporter": "python",
   "pygments_lexer": "ipython3",
   "version": "3.10.9"
  },
  "varInspector": {
   "cols": {
    "lenName": 16,
    "lenType": 16,
    "lenVar": 40
   },
   "kernels_config": {
    "python": {
     "delete_cmd_postfix": "",
     "delete_cmd_prefix": "del ",
     "library": "var_list.py",
     "varRefreshCmd": "print(var_dic_list())"
    },
    "r": {
     "delete_cmd_postfix": ") ",
     "delete_cmd_prefix": "rm(",
     "library": "var_list.r",
     "varRefreshCmd": "cat(var_dic_list()) "
    }
   },
   "types_to_exclude": [
    "module",
    "function",
    "builtin_function_or_method",
    "instance",
    "_Feature"
   ],
   "window_display": false
  }
 },
 "nbformat": 4,
 "nbformat_minor": 5
}
